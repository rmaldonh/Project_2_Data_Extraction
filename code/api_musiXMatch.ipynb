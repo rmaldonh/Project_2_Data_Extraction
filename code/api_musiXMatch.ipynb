{
 "cells": [
  {
   "cell_type": "code",
   "execution_count": 1,
   "metadata": {},
   "outputs": [],
   "source": [
    "import requests\n",
    "import re\n",
    "import os\n",
    "from dotenv import load_dotenv\n",
    "load_dotenv('../config/enviroment.env')\n",
    "import pandas as pd\n",
    "import json"
   ]
  },
  {
   "cell_type": "code",
   "execution_count": 2,
   "metadata": {},
   "outputs": [],
   "source": [
    "# URL BASE PARA REALIZAR LAS CONSULTAS A LA API\n",
    "URL = 'http://api.musixmatch.com/ws/1.1/'\n",
    "num_search = 10\n",
    "# OBTENER LA key PARA HABILITAR EL SERVICIO\n",
    "API_KEY = f'apikey={os.getenv(\"API_KEY\")}'"
   ]
  },
  {
   "cell_type": "code",
   "execution_count": 3,
   "metadata": {},
   "outputs": [],
   "source": [
    "# Artistas TOP en Mexico\n",
    "def search_topArtists():\n",
    "    page_size = '80' # As default\n",
    "    url_topArtists = f'{URL}chart.artists.get?{API_KEY}&page_size={page_size}&country=MX'\n",
    "    respons = requests.get(url_topArtists)\n",
    "    if respons.status_code == 200:\n",
    "        content = [l['artist'] for l in respons.json()['message']['body']['artist_list']]\n",
    "        lists_topArtists = [(l['artist_id'],l['artist_name'],l['artist_country'],l['artist_rating'])  for l in content]\n",
    "        pd_topArtists = pd.DataFrame(lists_topArtists, columns = ['artist-ID','Nombre','Pais','Rating'])\n",
    "        return pd_topArtists\n",
    "    else:\n",
    "        return f'No hay respuesta del servidor'"
   ]
  },
  {
   "cell_type": "code",
   "execution_count": 4,
   "metadata": {},
   "outputs": [],
   "source": [
    "# Canciones top en México\n",
    "def search_topTracks():\n",
    "    page_size = '80'\n",
    "    url_topTracks = f'{URL}chart.tracks.get?{API_KEY}&page_size={page_size}&country=MX&chart_name=hot&f_has_lyrics=1'\n",
    "    respons = requests.get(url_topTracks)\n",
    "    if respons.status_code == 200:\n",
    "        content = [l['track'] for l in respons.json()['message']['body']['track_list']]\n",
    "        list_topTracks = [(l['track_id'],l['album_id'],l['artist_id'],l['track_name'],l['album_name'],l['artist_name'],l['track_rating'])  for l in content]\n",
    "        pd_topTracks = pd.DataFrame(list_topTracks, columns=['track-ID','album-ID','artist-ID','Nombre','Album','Artista','Rating'])\n",
    "        return pd_topTracks\n",
    "    else:\n",
    "        return f'No hay respuesta del servidor'\n"
   ]
  },
  {
   "cell_type": "code",
   "execution_count": 5,
   "metadata": {},
   "outputs": [],
   "source": [
    "# Albumes del artista\n",
    "def search_ArtistAlbum(artist_id):\n",
    "    page_size = '100'\n",
    "    url_albumArtist = f'{URL}artist.albums.get?{API_KEY}&artist_id={artist_id}&s_release_date=desc&page_size={page_size}&g_album_name=1'\n",
    "    respons = requests.get(url_albumArtist)\n",
    "    if respons.status_code == 200:\n",
    "        content = [l['album'] for l in respons.json()['message']['body']['album_list']]\n",
    "        album_list = [(l['album_id'], l['artist_id'], l['album_name'],l['album_release_date'], l['album_rating']) for l in content]\n",
    "        pd_albumes = pd.DataFrame(album_list, columns=['album-ID','artist-ID','Nombre','Fec-Release','Rating'])\n",
    "        return pd_albumes"
   ]
  },
  {
   "cell_type": "code",
   "execution_count": 6,
   "metadata": {},
   "outputs": [],
   "source": [
    "# Obtiene lista de canciones por album\n",
    "def get_albumTracks(album_id):\n",
    "    url_albumTracks = f'{URL}album.tracks.get?{API_KEY}&album_id={album_id}&page=1'\n",
    "    respons = requests.get(url_albumTracks)\n",
    "    if respons.status_code == 200:\n",
    "        content = [l['track'] for l in respons.json()['message']['body']['track_list']]\n",
    "        track_list = [(l['track_id'], l['album_id'], l['artist_id'], l['track_name'], l['track_rating'], l['has_lyrics']) for l in content]\n",
    "        pd_tracks = pd.DataFrame(track_list, columns = ['track-ID','album-ID','artist-ID','Nombre','Rating','con-Letra'])\n",
    "    return pd_tracks"
   ]
  },
  {
   "cell_type": "code",
   "execution_count": 8,
   "metadata": {
    "scrolled": false
   },
   "outputs": [],
   "source": [
    "#PROGRAMA PRINCIPAL\n",
    "#Artistas TOP actualmente en MX\n",
    "artists_top = search_topArtists()\n",
    "artists_top.sort_values(by=['Rating'], inplace = True, ascending = False)\n",
    "artists_top.to_csv('../output/artists_top.csv', index = False)\n",
    "\n",
    "#Cancciones TOP consultadas en las últimas 2 horas\n",
    "tracks_top = search_topTracks()\n",
    "tracks_top.sort_values(by=['Rating'], inplace = True, ascending = False)\n",
    "tracks_top.to_csv('../output/tracks_top.csv', index = False)\n",
    "\n",
    "#Obtiene todos los discos de los artitas top en MX\n",
    "for art in range(len(artists_top.index)-1):\n",
    "    alb = search_ArtistAlbum(artists_top['artist-ID'].values[art])\n",
    "    if art == 0:\n",
    "        pd_albumes = alb\n",
    "    else:\n",
    "        pd_albumes = pd.concat([pd_albumes, alb], ignore_index=True)\n",
    "        \n",
    "\n",
    "        \n",
    "pd_albumes.to_csv('../output/album_artists.csv', index = False)\n",
    "\n",
    "#Obtiene las pistas de los discos de los artistas top, solo los primeros 4 discos\n",
    "for tr in range(len(pd_albumes.index)-1):\n",
    "    tracks = get_albumTracks(pd_albumes['album-ID'].values[tr])\n",
    "    if tr == 0:\n",
    "        pd_tracks = tracks\n",
    "    else:\n",
    "        pd_tracks = pd.concat([pd_tracks, tracks], ignore_index = False)\n",
    "    \n",
    "\n",
    "pd_tracks.to_csv('../output/tracks_collect.csv', index = False)"
   ]
  }
 ],
 "metadata": {
  "kernelspec": {
   "display_name": "Python 3",
   "language": "python",
   "name": "python3"
  },
  "language_info": {
   "codemirror_mode": {
    "name": "ipython",
    "version": 3
   },
   "file_extension": ".py",
   "mimetype": "text/x-python",
   "name": "python",
   "nbconvert_exporter": "python",
   "pygments_lexer": "ipython3",
   "version": "3.8.5"
  }
 },
 "nbformat": 4,
 "nbformat_minor": 4
}
